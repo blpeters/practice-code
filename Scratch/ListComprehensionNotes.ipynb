{
 "cells": [
  {
   "cell_type": "code",
   "execution_count": 1,
   "id": "235bbe9e-7be3-4757-bed1-ccf51e25d89c",
   "metadata": {},
   "outputs": [
    {
     "name": "stdout",
     "output_type": "stream",
     "text": [
      "Charles\n",
      "Susan\n",
      "Patrick\n",
      "George\n",
      "Carol\n"
     ]
    }
   ],
   "source": [
    "names = ['Charles', 'Susan', 'Patrick', 'George', 'Carol']\n",
    "for n in names:\n",
    "    print(n)"
   ]
  },
  {
   "cell_type": "markdown",
   "id": "18a2b7ba-556a-4e01-98d1-f824b3091d39",
   "metadata": {},
   "source": [
    "The primary reason for using List Comprehension if to create a new list from an existing collection"
   ]
  },
  {
   "cell_type": "markdown",
   "id": "30dfe756-3611-47f4-8c5a-b62998eba3cb",
   "metadata": {},
   "source": [
    "This is the typical way of creating a new list with a for loop:"
   ]
  },
  {
   "cell_type": "code",
   "execution_count": 6,
   "id": "b3b80d46-c27b-429c-ba50-c26d90a577d7",
   "metadata": {},
   "outputs": [
    {
     "name": "stdout",
     "output_type": "stream",
     "text": [
      "['Charles', 'Susan', 'Patrick', 'George', 'Carol']\n"
     ]
    }
   ],
   "source": [
    "names = ['Charles', 'Susan', 'Patrick', 'George', 'Carol']\n",
    "\n",
    "new_list = []\n",
    "for n in names:\n",
    "    new_list.append(n)\n",
    "\n",
    "print(new_list)"
   ]
  },
  {
   "cell_type": "markdown",
   "id": "8794c60a-ab86-4c1a-bbd2-32763cf72cce",
   "metadata": {},
   "source": [
    "<br>\n",
    "Now with List Comprehension - List Comprehension syntax returns a list, so you can assign it to a new var."
   ]
  },
  {
   "cell_type": "code",
   "execution_count": 30,
   "id": "a7051b90-596c-4849-ab93-fcdff6785044",
   "metadata": {},
   "outputs": [
    {
     "name": "stdout",
     "output_type": "stream",
     "text": [
      "['Charles', 'Susan', 'Patrick', 'George', 'Carol']\n",
      "['Whatever you wantWhatever you wantWhatever you want', 'Whatever you wantWhatever you wantWhatever you want', 'Whatever you wantWhatever you wantWhatever you want', 'Whatever you wantWhatever you wantWhatever you want', 'Whatever you wantWhatever you wantWhatever you want']\n"
     ]
    }
   ],
   "source": [
    "names = ['Charles', 'Susan', 'Patrick', 'George', 'Carol']\n",
    "\n",
    "new_list = [n for n in names]\n",
    "print(new_list)\n",
    "\n",
    "new_list2 = [\"Whatever you want\"*3 for randomlyDefinedName in names]\n",
    "print(new_list2)"
   ]
  },
  {
   "cell_type": "markdown",
   "id": "74d01b45-76ad-4d73-9310-145d651ed500",
   "metadata": {},
   "source": [
    "<br>###ADDING CONDITIONALS"
   ]
  },
  {
   "cell_type": "code",
   "execution_count": 39,
   "id": "d9ab7868-fa0a-4712-b31f-142ae3305bc2",
   "metadata": {},
   "outputs": [
    {
     "name": "stdout",
     "output_type": "stream",
     "text": [
      "['Charles', 'Carol']\n"
     ]
    }
   ],
   "source": [
    "conditional_list = [n for n in names if n.startswith('C')]\n",
    "print(conditional_list)"
   ]
  },
  {
   "cell_type": "markdown",
   "id": "b3c16146-26c2-4aaa-af58-b4ca7ef7169e",
   "metadata": {},
   "source": [
    "This is actually more readable than the for loop version!"
   ]
  },
  {
   "cell_type": "markdown",
   "id": "524e5a30-ca01-4b3c-8797-8d04b665fd02",
   "metadata": {},
   "source": [
    "Breaking long comprehensions intoo multiple lines:"
   ]
  },
  {
   "cell_type": "code",
   "execution_count": 45,
   "id": "c1bf8d75-39b9-4b5e-acc8-3744416aff6f",
   "metadata": {},
   "outputs": [
    {
     "name": "stdout",
     "output_type": "stream",
     "text": [
      "['Charles', 'Patrick', 'George', 'Carol']\n"
     ]
    }
   ],
   "source": [
    "long_list = [\n",
    "    n\n",
    "    for n in names\n",
    "    if n.startswith(\"C\")\n",
    "    or n.endswith(\"e\")\n",
    "    or \"k\" in n\n",
    "]\n",
    "print(long_list)"
   ]
  },
  {
   "cell_type": "code",
   "execution_count": null,
   "id": "d1f3a52c-52bf-47c0-82bf-a91543798c15",
   "metadata": {},
   "outputs": [],
   "source": []
  }
 ],
 "metadata": {
  "kernelspec": {
   "display_name": "Python 3 (ipykernel)",
   "language": "python",
   "name": "python3"
  },
  "language_info": {
   "codemirror_mode": {
    "name": "ipython",
    "version": 3
   },
   "file_extension": ".py",
   "mimetype": "text/x-python",
   "name": "python",
   "nbconvert_exporter": "python",
   "pygments_lexer": "ipython3",
   "version": "3.12.3"
  }
 },
 "nbformat": 4,
 "nbformat_minor": 5
}
